{
 "cells": [
  {
   "cell_type": "code",
   "execution_count": null,
   "metadata": {},
   "outputs": [],
   "source": [
    "#hide\n",
    "from getapt.apt import *"
   ]
  },
  {
   "cell_type": "markdown",
   "metadata": {},
   "source": [
    "# getapt\n",
    "\n",
    "> See craigslist apartments"
   ]
  },
  {
   "cell_type": "markdown",
   "metadata": {},
   "source": [
    "## Install"
   ]
  },
  {
   "cell_type": "markdown",
   "metadata": {},
   "source": [
    "`pip install getapt`"
   ]
  },
  {
   "cell_type": "markdown",
   "metadata": {},
   "source": [
    "## How to use"
   ]
  },
  {
   "cell_type": "code",
   "execution_count": null,
   "metadata": {},
   "outputs": [
    {
     "name": "stdout",
     "output_type": "stream",
     "text": [
      "usage: show_apts [-h] region n\n",
      "\n",
      "Show links to apartments on craigslist\n",
      "\n",
      "positional arguments:\n",
      "  region      craiglist region like `portland`\n",
      "  n           show n listings\n",
      "\n",
      "optional arguments:\n",
      "  -h, --help  show this help message and exit\n"
     ]
    }
   ],
   "source": [
    "! show_apts -h"
   ]
  },
  {
   "cell_type": "markdown",
   "metadata": {},
   "source": [
    "# Example"
   ]
  },
  {
   "cell_type": "code",
   "execution_count": null,
   "metadata": {},
   "outputs": [
    {
     "name": "stdout",
     "output_type": "stream",
     "text": [
      "Showing 10 apartments in portland\n",
      "==================================================\n",
      "https://portland.craigslist.org/mlt/apa/d/gresham-spacious-bedroom-unit-in-gresham/7489169916.html\n",
      "https://portland.craigslist.org/mlt/apa/d/gresham-spacious-bedroom-unit-in-gresham/7489169138.html\n",
      "https://portland.craigslist.org/wsc/apa/d/portland-call-for-future-availability/7489168564.html\n",
      "https://portland.craigslist.org/mlt/apa/d/portland-get-your-dream-apartment-come/7489168443.html\n",
      "https://portland.craigslist.org/clk/apa/d/vancouver-looking-for-an-apartment-this/7489168297.html\n",
      "https://portland.craigslist.org/clc/apa/d/clackamas-want-to-wake-up-to-nature/7489168192.html\n",
      "https://portland.craigslist.org/mlt/apa/d/portland-pet-friendly-apartments-in/7489167947.html\n",
      "https://portland.craigslist.org/clc/apa/d/west-linn-fitness-center-swimming-pool/7488321368.html\n",
      "https://portland.craigslist.org/mlt/apa/d/portland-pet-friendly-one-bedroom-in/7489163662.html\n",
      "https://portland.craigslist.org/mlt/apa/d/portland-oversized-closets-elevator/7489167324.html\n"
     ]
    }
   ],
   "source": [
    "! show_apts portland 10"
   ]
  },
  {
   "cell_type": "code",
   "execution_count": null,
   "metadata": {},
   "outputs": [],
   "source": []
  }
 ],
 "metadata": {
  "kernelspec": {
   "display_name": "Python 3 (ipykernel)",
   "language": "python",
   "name": "python3"
  }
 },
 "nbformat": 4,
 "nbformat_minor": 4
}
